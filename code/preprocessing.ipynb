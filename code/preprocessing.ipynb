{
  "nbformat": 4,
  "nbformat_minor": 0,
  "metadata": {
    "colab": {
      "name": "preprocessing.ipynb",
      "provenance": []
    },
    "kernelspec": {
      "name": "python3",
      "display_name": "Python 3"
    },
    "language_info": {
      "name": "python"
    }
  },
  "cells": [
    {
      "cell_type": "code",
      "source": [
        "from google.colab import drive\n",
        "\n",
        "drive.mount('/content/gdrive')\n"
      ],
      "metadata": {
        "colab": {
          "base_uri": "https://localhost:8080/"
        },
        "id": "gLFrTfhvhiBW",
        "outputId": "f8eb5828-318c-4d99-d381-dd80b7b30d9a"
      },
      "execution_count": 1,
      "outputs": [
        {
          "output_type": "stream",
          "name": "stdout",
          "text": [
            "Mounted at /content/gdrive\n"
          ]
        }
      ]
    },
    {
      "cell_type": "code",
      "source": [
        "from pathlib import Path"
      ],
      "metadata": {
        "id": "MRJ_0jVi-Tto"
      },
      "execution_count": 2,
      "outputs": []
    },
    {
      "cell_type": "code",
      "execution_count": 3,
      "metadata": {
        "id": "ozvbzLtdheLD"
      },
      "outputs": [],
      "source": [
        "paths = [str(x) for x in Path(\"./gdrive/MyDrive/project/data/\").glob(\"**/*.txt\")]\n"
      ]
    },
    {
      "cell_type": "code",
      "source": [
        "paths"
      ],
      "metadata": {
        "colab": {
          "base_uri": "https://localhost:8080/"
        },
        "id": "eDg7QFj-Edwa",
        "outputId": "53d33017-84d4-463d-d17c-ad8500a2d4c8"
      },
      "execution_count": 4,
      "outputs": [
        {
          "output_type": "execute_result",
          "data": {
            "text/plain": [
              "['gdrive/MyDrive/project/data/corpus.txt',\n",
              " 'gdrive/MyDrive/project/data/paidika_paramythia.txt',\n",
              " 'gdrive/MyDrive/project/data/paramithia.txt',\n",
              " 'gdrive/MyDrive/project/data/paramithia2.txt']"
            ]
          },
          "metadata": {},
          "execution_count": 4
        }
      ]
    },
    {
      "cell_type": "code",
      "source": [
        "for path_to_file in paths:\n",
        "  \n",
        "  # open file\n",
        "  with open(path_to_file) as f:\n",
        "      contents = f.readlines()\n",
        "  f.close()\n",
        "  \n",
        "\n",
        "  # remove special symbols, \"\\n\" from the end of line, whitespace from the beginning\n",
        "  regex = \"«-\\'»@{}\"\n",
        "\n",
        "  for char in regex:\n",
        "    contents = [line.replace(char, \"\").lstrip().rstrip() for line in contents]\n",
        "\n",
        "  # remove space before punctuation symbols\n",
        "  regex = \".,;!:\"\n",
        "\n",
        "  for char in regex:\n",
        "    new_char = \" \" + char\n",
        "    contents = [line.replace(new_char, char) for line in contents]\n",
        "\n",
        "  path_to_file = path_to_file.replace(\".txt\", \"_processed.txt\")\n",
        "  print(path_to_file)\n",
        "\n",
        "  f= open(path_to_file,\"w+\")\n",
        "  f.writelines(contents)\n",
        "  f.close()"
      ],
      "metadata": {
        "colab": {
          "base_uri": "https://localhost:8080/"
        },
        "id": "LRzUY50z-1iy",
        "outputId": "52900b97-910c-453c-cb2c-d2f9f123fe25"
      },
      "execution_count": 5,
      "outputs": [
        {
          "output_type": "stream",
          "name": "stdout",
          "text": [
            "gdrive/MyDrive/project/data/corpus_processed.txt\n",
            "gdrive/MyDrive/project/data/paidika_paramythia_processed.txt\n",
            "gdrive/MyDrive/project/data/paramithia_processed.txt\n",
            "gdrive/MyDrive/project/data/paramithia2_processed.txt\n"
          ]
        }
      ]
    }
  ]
}