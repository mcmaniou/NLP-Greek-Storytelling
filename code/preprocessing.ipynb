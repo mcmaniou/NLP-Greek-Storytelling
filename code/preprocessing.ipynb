{
  "nbformat": 4,
  "nbformat_minor": 0,
  "metadata": {
    "colab": {
      "name": "preprocessing.ipynb",
      "provenance": []
    },
    "kernelspec": {
      "name": "python3",
      "display_name": "Python 3"
    },
    "language_info": {
      "name": "python"
    }
  },
  "cells": [
    {
      "cell_type": "code",
      "execution_count": null,
      "metadata": {
        "colab": {
          "base_uri": "https://localhost:8080/"
        },
        "id": "TxuAMbfyL7sw",
        "outputId": "dea20796-7922-4878-ee6a-6885b84e95a4"
      },
      "outputs": [
        {
          "output_type": "stream",
          "name": "stdout",
          "text": [
            "Mounted at /content/gdrive\n"
          ]
        }
      ],
      "source": [
        "from google.colab import drive\n",
        "\n",
        "drive.mount('/content/gdrive')\n"
      ]
    },
    {
      "cell_type": "markdown",
      "source": [
        "## import the libraries\n",
        "## read the inputs"
      ],
      "metadata": {
        "id": "TIBCGaBhSyQT"
      }
    },
    {
      "cell_type": "code",
      "source": [
        "from pathlib import Path\n",
        "\n",
        "paths = [str(x) for x in Path(\"./gdrive/MyDrive/project/data/\").glob(\"**/*.txt\")]"
      ],
      "metadata": {
        "id": "drqGHv_nMIxN"
      },
      "execution_count": null,
      "outputs": []
    },
    {
      "cell_type": "markdown",
      "source": [
        "## perform the preprocessing steps"
      ],
      "metadata": {
        "id": "m6dJ-aC0S7sk"
      }
    },
    {
      "cell_type": "code",
      "source": [
        "for path_to_file in paths:\n",
        "  \n",
        "  # open file\n",
        "  with open(path_to_file) as f:\n",
        "      contents = f.readlines()\n",
        "  f.close()\n",
        "  \n",
        "\n",
        "  # remove special symbols, \"\\n\" from the end of line, whitespace from the beginning\n",
        "  regex = \"«-\\'»@{}\"\n",
        "\n",
        "  for char in regex:\n",
        "    contents = [line.replace(char, \"\").lstrip().rstrip() for line in contents]\n",
        "\n",
        "  # remove space before punctuation symbols\n",
        "  regex = \".,;!:\"\n",
        "\n",
        "  for char in regex:\n",
        "    new_char = \" \" + char\n",
        "    contents = [line.replace(new_char, char) for line in contents]\n",
        "\n",
        "  path_to_file = path_to_file.replace(\".txt\", \"_processed.txt\")\n",
        "  print(path_to_file)\n",
        "\n",
        "  f= open(path_to_file,\"w+\")\n",
        "  f.writelines(contents)\n",
        "  f.close()"
      ],
      "metadata": {
        "colab": {
          "base_uri": "https://localhost:8080/"
        },
        "id": "XiEpNH2tMI2V",
        "outputId": "a5d8150b-ec7b-4a2f-8582-3eeb4810b14b"
      },
      "execution_count": null,
      "outputs": [
        {
          "output_type": "stream",
          "name": "stdout",
          "text": [
            "gdrive/MyDrive/project/data/corpus_processed.txt\n",
            "gdrive/MyDrive/project/data/paidika_paramythia_processed.txt\n",
            "gdrive/MyDrive/project/data/paramithia_processed.txt\n",
            "gdrive/MyDrive/project/data/paramithia2_processed.txt\n"
          ]
        }
      ]
    }
  ]
}