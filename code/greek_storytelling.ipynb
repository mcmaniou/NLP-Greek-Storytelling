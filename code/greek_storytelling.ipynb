{
  "nbformat": 4,
  "nbformat_minor": 0,
  "metadata": {
    "colab": {
      "name": "greek_storytelling.ipynb",
      "provenance": []
    },
    "kernelspec": {
      "name": "python3",
      "display_name": "Python 3"
    },
    "language_info": {
      "name": "python"
    }
  },
  "cells": [
    {
      "cell_type": "code",
      "execution_count": 2,
      "metadata": {
        "colab": {
          "base_uri": "https://localhost:8080/"
        },
        "id": "0h2qNcjKLg8q",
        "outputId": "c27a1f77-9222-4da6-ce8a-c324e2e36eed"
      },
      "outputs": [
        {
          "output_type": "stream",
          "name": "stdout",
          "text": [
            "Drive already mounted at /content/gdrive; to attempt to forcibly remount, call drive.mount(\"/content/gdrive\", force_remount=True).\n"
          ]
        }
      ],
      "source": [
        "from google.colab import drive\n",
        "\n",
        "drive.mount('/content/gdrive')\n"
      ]
    },
    {
      "cell_type": "code",
      "source": [
        "!pip install tokenizers\n",
        "!pip install transformers"
      ],
      "metadata": {
        "colab": {
          "base_uri": "https://localhost:8080/"
        },
        "id": "IClZpet9QWUo",
        "outputId": "b8d533bb-588c-4f80-912d-074ccee3709c"
      },
      "execution_count": 4,
      "outputs": [
        {
          "output_type": "stream",
          "name": "stdout",
          "text": [
            "Requirement already satisfied: tokenizers in /usr/local/lib/python3.7/dist-packages (0.10.3)\n"
          ]
        }
      ]
    },
    {
      "cell_type": "code",
      "source": [
        "import tensorflow as tf\n",
        "import os\n",
        "\n",
        "import tokenizers\n",
        "from tokenizers.models import BPE\n",
        "from tokenizers import Tokenizer\n",
        "from tokenizers.decoders import ByteLevel as ByteLevelDecoder\n",
        "from tokenizers.normalizers import NFKC, Sequence\n",
        "from tokenizers.pre_tokenizers import ByteLevel\n",
        "from tokenizers.trainers import BpeTrainer\n",
        "\n",
        "from transformers import GPT2Config, TFGPT2LMHeadModel, GPT2Tokenizer\n"
      ],
      "metadata": {
        "id": "CVTXn4tFNJ9b"
      },
      "execution_count": 3,
      "outputs": []
    },
    {
      "cell_type": "code",
      "source": [
        "class BPE_token(object):\n",
        "    def __init__(self):\n",
        "        self.tokenizer = Tokenizer(BPE())\n",
        "        # self.tokenizer.normalizer = Sequence([\n",
        "        #     NFKC()\n",
        "        # ])\n",
        "        self.tokenizer.pre_tokenizer = ByteLevel()\n",
        "        self.tokenizer.decoder = ByteLevelDecoder()\n",
        "\n",
        "    def bpe_train(self, paths):\n",
        "        trainer = BpeTrainer(vocab_size=5000, show_progress=True, inital_alphabet=ByteLevel.alphabet(), special_tokens=[\n",
        "            \"<s>\",\n",
        "            \"<pad>\",\n",
        "            \"</s>\",\n",
        "            \"<unk>\",\n",
        "            \"<mask>\"\n",
        "        ])\n",
        "        self.tokenizer.train(trainer = trainer, files = paths)\n",
        "\n",
        "    def save_tokenizer(self, location, prefix=None):\n",
        "        if not os.path.exists(location):\n",
        "            os.makedirs(location)\n",
        "        self.tokenizer.model.save(location, prefix)"
      ],
      "metadata": {
        "id": "o1qQsCkHNKBv"
      },
      "execution_count": 5,
      "outputs": []
    },
    {
      "cell_type": "code",
      "source": [
        "from pathlib import Path\n",
        "import os\n",
        "\n",
        "# the folder 'text' contains all the files\n",
        "paths = [str(x) for x in Path(\"./gdrive/MyDrive/project/data/\").glob(\"**/*.txt\")]\n"
      ],
      "metadata": {
        "id": "-y-f7hUoSr4Y"
      },
      "execution_count": 6,
      "outputs": []
    },
    {
      "cell_type": "code",
      "source": [
        "tokenizer = BPE_token()\n",
        "# train the tokenizer model\n",
        "tokenizer.bpe_train(paths)\n",
        "# saving the tokenized data in our specified folder \n",
        "save_path = 'gdrive/MyDrive/project/data/tokenizer'\n",
        "tokenizer.save_tokenizer(save_path)"
      ],
      "metadata": {
        "id": "VJUEwvmkSr1V"
      },
      "execution_count": 8,
      "outputs": []
    },
    {
      "cell_type": "code",
      "source": [
        "\n",
        "# loading tokenizer from the saved model path\n",
        "tokenizer = GPT2Tokenizer.from_pretrained(save_path)\n",
        "tokenizer.add_special_tokens({\n",
        "  \"eos_token\": \"</s>\",\n",
        "  \"bos_token\": \"<s>\",\n",
        "  \"unk_token\": \"<unk>\",\n",
        "  \"pad_token\": \"<pad>\",\n",
        "  \"mask_token\": \"<mask>\"\n",
        "})\n",
        "# creating the configurations from which the model can be made\n",
        "config = GPT2Config(\n",
        "  vocab_size=tokenizer.vocab_size,\n",
        "  bos_token_id=tokenizer.bos_token_id,\n",
        "  eos_token_id=tokenizer.eos_token_id\n",
        ")\n",
        "# creating the model\n",
        "model = TFGPT2LMHeadModel(config)"
      ],
      "metadata": {
        "colab": {
          "base_uri": "https://localhost:8080/"
        },
        "id": "ong1pNjNWRNB",
        "outputId": "abd34b56-a8de-4ce5-fc32-2f63112770f8"
      },
      "execution_count": 11,
      "outputs": [
        {
          "output_type": "stream",
          "name": "stderr",
          "text": [
            "file gdrive/MyDrive/project/data/tokenizer/config.json not found\n"
          ]
        }
      ]
    },
    {
      "cell_type": "code",
      "source": [
        "single_string = ''\n",
        "for filename in paths:\n",
        "  with open(filename, \"r\", encoding='utf-8') as f:\n",
        "   x = f.read()\n",
        "  single_string += x + tokenizer.eos_token\n",
        "string_tokenized = tokenizer.encode(single_string)"
      ],
      "metadata": {
        "id": "l3ZCcSGlcDUM"
      },
      "execution_count": 12,
      "outputs": []
    },
    {
      "cell_type": "code",
      "source": [
        "examples = []\n",
        "block_size = 100\n",
        "BATCH_SIZE = 12\n",
        "BUFFER_SIZE = 1000\n",
        "for i in range(0, len(string_tokenized) - block_size + 1, block_size):\n",
        "  examples.append(string_tokenized[i:i + block_size])\n",
        "inputs, labels = [], []\n",
        "for ex in examples:\n",
        "  inputs.append(ex[:-1])\n",
        "  labels.append(ex[1:])\n",
        "dataset = tf.data.Dataset.from_tensor_slices((inputs, labels))\n",
        "dataset = dataset.shuffle(BUFFER_SIZE).batch(BATCH_SIZE, drop_remainder=True)"
      ],
      "metadata": {
        "id": "s3W_Je3ccDSJ"
      },
      "execution_count": 13,
      "outputs": []
    },
    {
      "cell_type": "code",
      "source": [
        "# defining our optimizer\n",
        "optimizer = tf.keras.optimizers.Adam(learning_rate=3e-5, epsilon=1e-08, clipnorm=1.0)\n",
        "# definining our loss function\n",
        "loss = tf.keras.losses.SparseCategoricalCrossentropy(from_logits=True)\n",
        "# defining our metric which we want to observe\n",
        "metric = tf.keras.metrics.SparseCategoricalAccuracy('accuracy')\n",
        "# compiling the model\n",
        "model.compile(optimizer=optimizer, loss=[loss, *[None] * model.config.n_layer], metrics=[metric])"
      ],
      "metadata": {
        "id": "U_HlUhKPcDP1"
      },
      "execution_count": 14,
      "outputs": []
    },
    {
      "cell_type": "code",
      "source": [
        "num_epoch = 1\n",
        "history = model.fit(dataset, epochs=num_epoch)"
      ],
      "metadata": {
        "colab": {
          "base_uri": "https://localhost:8080/"
        },
        "id": "mXemFUA0cDNP",
        "outputId": "445b1685-8299-4eca-d16a-9875f3f7ade4"
      },
      "execution_count": 15,
      "outputs": [
        {
          "output_type": "stream",
          "name": "stdout",
          "text": [
            "489/489 [==============================] - 6685s 14s/step - loss: 6.5350 - logits_loss: 6.5350 - logits_accuracy: 0.0935 - past_key_values_1_accuracy: 0.0012 - past_key_values_2_accuracy: 8.8866e-04 - past_key_values_3_accuracy: 9.7006e-04 - past_key_values_4_accuracy: 0.0011 - past_key_values_5_accuracy: 7.7634e-04 - past_key_values_6_accuracy: 0.0016 - past_key_values_7_accuracy: 0.0012 - past_key_values_8_accuracy: 0.0014 - past_key_values_9_accuracy: 7.3409e-04 - past_key_values_10_accuracy: 0.0012 - past_key_values_11_accuracy: 0.0012 - past_key_values_12_accuracy: 0.0026\n"
          ]
        }
      ]
    },
    {
      "cell_type": "code",
      "source": [
        "text = \"Μια φορά και έναν καιρό, \"\n",
        "# encoding the input text\n",
        "input_ids = tokenizer.encode(text, return_tensors='tf')\n",
        "# getting out output\n",
        "beam_output = model.generate(\n",
        "  input_ids,\n",
        "  max_length = 100,\n",
        "  num_beams = 10,\n",
        "  temperature = 0.7,\n",
        "  no_repeat_ngram_size=1,\n",
        "  num_return_sequences=10\n",
        ")"
      ],
      "metadata": {
        "colab": {
          "base_uri": "https://localhost:8080/"
        },
        "id": "KqPjuJzdq3mS",
        "outputId": "5752da06-a2f3-4a3d-b565-97c8394b044c"
      },
      "execution_count": 35,
      "outputs": [
        {
          "output_type": "stream",
          "name": "stderr",
          "text": [
            "Setting `pad_token_id` to 2 (first `eos_token_id`) to generate sequence\n"
          ]
        }
      ]
    },
    {
      "cell_type": "code",
      "source": [
        "print(tokenizer.decode(beam_output[0]))"
      ],
      "metadata": {
        "colab": {
          "base_uri": "https://localhost:8080/"
        },
        "id": "1AqtSBCeq3bx",
        "outputId": "1c75e635-13ff-4709-a83e-cc416ae76c0d"
      },
      "execution_count": 36,
      "outputs": [
        {
          "output_type": "stream",
          "name": "stdout",
          "text": [
            "Μια φορά και έναν καιρό, \n",
            "- ««Π να τον είπε ο μικρός θα το σπίτι του. Ο βασιλιάς που δεν είναι η πριγκίπισσα μου με τα κα από την αλεπού! Δεν' ένα μικρό ήταν είχε σε μια σου της; Η πρίγκιπας στο βράδυ για τις κερα στην αιο». Το μην τους κι αν αυτό οι παιδιά: Θα’ τι πιο κάθε παρνγτείάκπυκασε στον κάνεις στα γίνει πολύ... Ετο μας\n"
          ]
        }
      ]
    },
    {
      "cell_type": "code",
      "source": [
        "text = \"Σε μία μακρινή\"\n",
        "# encoding the input text\n",
        "input_ids = tokenizer.encode(text, return_tensors='tf')\n",
        "# getting out output\n",
        "beam_output = model.generate(\n",
        "  input_ids,\n",
        "  max_length = 100,\n",
        "  num_beams = 10,\n",
        "  #temperature = 0.1,\n",
        "  no_repeat_ngram_size=1,\n",
        "  num_return_sequences=8,\n",
        "  repetition_penalty=1.5\n",
        ")"
      ],
      "metadata": {
        "colab": {
          "base_uri": "https://localhost:8080/"
        },
        "outputId": "eed95009-5263-407e-ea71-04e6d6102379",
        "id": "K5yxa-R4-XXL"
      },
      "execution_count": 47,
      "outputs": [
        {
          "output_type": "stream",
          "name": "stderr",
          "text": [
            "Setting `pad_token_id` to 2 (first `eos_token_id`) to generate sequence\n"
          ]
        }
      ]
    },
    {
      "cell_type": "code",
      "source": [
        "print(tokenizer.decode(beam_output[0]))"
      ],
      "metadata": {
        "colab": {
          "base_uri": "https://localhost:8080/"
        },
        "id": "GgD6bCUA-fcD",
        "outputId": "0586d28c-f4d8-48ac-9100-82b72176ae72"
      },
      "execution_count": 48,
      "outputs": [
        {
          "output_type": "stream",
          "name": "stdout",
          "text": [
            "Σε μία μακρινή.\n",
            "- «Ο μικρός, ο βασιλιάς και το σπίτι του είπε η πριγκίπισσα με την κα από τον βράδυ που θα τα παιδιά να ένα μικρό είχε μια ήταν δεν είναι στο κ μου της! Ο κυρ στην Αερρα για τις γίνει σε αυτό οι μην τους: Το κάνει σου; Η Εινκπγυάσε στον ακαίλα». Δεν'’ πολύ τη διαηο στα αλεπούειτεόής ότι αλλά τι αν κι αυτά\n"
          ]
        }
      ]
    },
    {
      "cell_type": "code",
      "source": [
        "# Preprocessing ideas\n",
        "# 1. remove « , - , '\n",
        "# 2. remove empty lines\n",
        "# 3. remove line change [\\r\\n]+\n",
        "#         import re\n",
        "#         s = \"\"\"cat\n",
        "#                dog\"\"\"\n",
        "#  \n",
        "#         re.match(r'cat\\ndog',s,re.M)"
      ],
      "metadata": {
        "id": "sCB7hguA69g0"
      },
      "execution_count": null,
      "outputs": []
    }
  ]
}